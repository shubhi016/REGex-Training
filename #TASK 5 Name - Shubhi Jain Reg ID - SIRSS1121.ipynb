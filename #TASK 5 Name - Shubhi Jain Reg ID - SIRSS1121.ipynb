{
 "cells": [
  {
   "cell_type": "markdown",
   "id": "52dc0fb0",
   "metadata": {},
   "source": [
    "## Q1. Given a list of integers, write a function to return the sum of all prime numbers in that list."
   ]
  },
  {
   "cell_type": "code",
   "execution_count": 25,
   "id": "7a08b00f",
   "metadata": {},
   "outputs": [
    {
     "name": "stdout",
     "output_type": "stream",
     "text": [
      "[11, 13, 17]\n",
      "41\n"
     ]
    }
   ],
   "source": [
    "def prime(n):\n",
    "    if n < 2 :\n",
    "        return False\n",
    "    for i in range(2,n):\n",
    "        if n % i == 0 :\n",
    "            return False\n",
    "            break\n",
    "    return True\n",
    "\n",
    "l = []\n",
    "a = [1,4,6,11,13,14,16,17,18]\n",
    "\n",
    "for x in a :\n",
    "    if prime(x):\n",
    "        l.append(x)\n",
    "        \n",
    "print(l)\n",
    "\n",
    "total = 0\n",
    "for j in range(len(l)) :\n",
    "    total += l[j]\n",
    "    \n",
    "print(total)\n",
    "            "
   ]
  },
  {
   "cell_type": "markdown",
   "id": "2bdc825c",
   "metadata": {},
   "source": [
    "## Q2. Given a list of integers, write a function to check whether the list is strictly increasing or not."
   ]
  },
  {
   "cell_type": "code",
   "execution_count": 26,
   "id": "12df1ee5",
   "metadata": {},
   "outputs": [
    {
     "name": "stdout",
     "output_type": "stream",
     "text": [
      "4\n",
      "5\n",
      "6\n",
      "8\n",
      "3\n",
      "No , the list is not strictly increasing.\n"
     ]
    }
   ],
   "source": [
    "def strictlyIncrease(list,n) :\n",
    "    count = 0\n",
    "    for i in range(0,n-1) :\n",
    "        if (l[i] >= l[i+1]) :\n",
    "            count += 1\n",
    "            \n",
    "    if (count >= 1) :\n",
    "        print(\"No , the list is not strictly increasing.\")\n",
    "    else :\n",
    "        print(\"Yes , the list is strictly increasing.\")\n",
    "            \n",
    "a = int(input())\n",
    "l = [[input()] for _ in range(a)]\n",
    "n = len(l)\n",
    "\n",
    "strictlyIncrease(l,n)\n",
    "    "
   ]
  },
  {
   "cell_type": "markdown",
   "id": "a776291d",
   "metadata": {},
   "source": [
    "## Q3. Write a function to check whether a given list is expanding or not (the difference between adjacent elements should keep on increasing)."
   ]
  },
  {
   "cell_type": "code",
   "execution_count": 27,
   "id": "2b519417",
   "metadata": {},
   "outputs": [
    {
     "name": "stdout",
     "output_type": "stream",
     "text": [
      "No\n"
     ]
    }
   ],
   "source": [
    "def expand(list,n) :\n",
    "    count = 0\n",
    "    for i in range(0,n-3) :\n",
    "        if((list[i+1]-list[i]) > (list[i+2]-list[i+1])) : \n",
    "            count += 1\n",
    "            \n",
    "    if count >=1 :\n",
    "        print(\"No\")\n",
    "    else :\n",
    "        print(\"Yes\")\n",
    "        \n",
    "list = [1,3,4,5,6,11,13,22,23]\n",
    "n = len(list)\n",
    "\n",
    "expand(list,n)"
   ]
  },
  {
   "cell_type": "markdown",
   "id": "64f56a3d",
   "metadata": {},
   "source": [
    "## Q4. Write a function to calculate all permutations of a given string (without using itertools)."
   ]
  },
  {
   "cell_type": "code",
   "execution_count": 28,
   "id": "8169d4c4",
   "metadata": {},
   "outputs": [
    {
     "name": "stdout",
     "output_type": "stream",
     "text": [
      "abc\n",
      "['abc', 'bac', 'bca']\n"
     ]
    }
   ],
   "source": [
    "def permute(s) :\n",
    "    if len(s) == 1 :\n",
    "        return [s]\n",
    "    perms = permute(s[1:])\n",
    "    char = s[0]\n",
    "    result = []\n",
    "    \n",
    "    for perm in perms :\n",
    "        for i in range(len(perm)+1) :\n",
    "            result.append(perm[:i] + char + perm[i:])\n",
    "        return result\n",
    "    \n",
    "s = str(input())\n",
    "print(permute(s))"
   ]
  },
  {
   "cell_type": "code",
   "execution_count": null,
   "id": "3675a57e",
   "metadata": {},
   "outputs": [],
   "source": []
  }
 ],
 "metadata": {
  "kernelspec": {
   "display_name": "Python 3",
   "language": "python",
   "name": "python3"
  },
  "language_info": {
   "codemirror_mode": {
    "name": "ipython",
    "version": 3
   },
   "file_extension": ".py",
   "mimetype": "text/x-python",
   "name": "python",
   "nbconvert_exporter": "python",
   "pygments_lexer": "ipython3",
   "version": "3.8.8"
  }
 },
 "nbformat": 4,
 "nbformat_minor": 5
}
