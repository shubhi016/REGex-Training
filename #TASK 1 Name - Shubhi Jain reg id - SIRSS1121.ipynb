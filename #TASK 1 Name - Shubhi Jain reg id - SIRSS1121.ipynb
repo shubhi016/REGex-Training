{
 "cells": [
  {
   "cell_type": "markdown",
   "id": "c92d7838",
   "metadata": {},
   "source": [
    "## 1) Pattern 1 :"
   ]
  },
  {
   "cell_type": "code",
   "execution_count": 1,
   "id": "0b59e152",
   "metadata": {},
   "outputs": [
    {
     "name": "stdout",
     "output_type": "stream",
     "text": [
      "Enter number of rows: 5\n",
      "5 5 5 5 5 \n",
      "5 5 5 5 \n",
      "5 5 5 \n",
      "5 5 \n",
      "5 \n",
      "\n"
     ]
    }
   ],
   "source": [
    "n = int(input(\"Enter number of rows: \"))\n",
    "for i in range(0,n+1):\n",
    "    for j in range(0,n-i):\n",
    "        print(\"5\",end = ' ')\n",
    "    print()\n",
    "    "
   ]
  },
  {
   "cell_type": "markdown",
   "id": "537a9ca7",
   "metadata": {},
   "source": [
    "## 2) Pattern 2 :"
   ]
  },
  {
   "cell_type": "code",
   "execution_count": 2,
   "id": "d95af9de",
   "metadata": {},
   "outputs": [
    {
     "name": "stdout",
     "output_type": "stream",
     "text": [
      "Enter number of rows: 5\n",
      "0 1 2 3 4 5 \n",
      "0 1 2 3 4 \n",
      "0 1 2 3 \n",
      "0 1 2 \n",
      "0 1 \n"
     ]
    }
   ],
   "source": [
    "n = int(input(\"Enter number of rows: \"))\n",
    "for i in range(n,0,-1):\n",
    "    for j in range(0,i+1):\n",
    "        print(j,end = ' ' )\n",
    "    print()"
   ]
  },
  {
   "cell_type": "markdown",
   "id": "1954aa03",
   "metadata": {},
   "source": [
    "## 3) Pattern 3 : "
   ]
  },
  {
   "cell_type": "code",
   "execution_count": 3,
   "id": "9ed5e333",
   "metadata": {},
   "outputs": [
    {
     "name": "stdout",
     "output_type": "stream",
     "text": [
      "Enter number of rows: 6\n",
      "1 \n",
      "3 3 \n",
      "5 5 5 \n",
      "7 7 7 7 \n",
      "9 9 9 9 9 \n",
      "11 11 11 11 11 11 \n"
     ]
    }
   ],
   "source": [
    "n = int(input(\"Enter number of rows: \"))\n",
    "k = 1\n",
    "for i in range(1,n+1):\n",
    "    for j in range(1,i+1):\n",
    "        print(k,end = ' ')\n",
    "    k = k + 2\n",
    "    print()"
   ]
  },
  {
   "cell_type": "markdown",
   "id": "f7dd8153",
   "metadata": {},
   "source": [
    "## 4) Pattern 4 :"
   ]
  },
  {
   "cell_type": "code",
   "execution_count": 4,
   "id": "79dc8da8",
   "metadata": {},
   "outputs": [
    {
     "name": "stdout",
     "output_type": "stream",
     "text": [
      "Enter number of rows: 5\n",
      "1 \n",
      "2 1 \n",
      "3 2 1 \n",
      "4 3 2 1 \n",
      "5 4 3 2 1 \n"
     ]
    }
   ],
   "source": [
    "n = int(input(\"Enter number of rows: \"))\n",
    "for i in range(0,n):\n",
    "    for j in range(i,-1,-1):\n",
    "        print(j+1,end = ' ')\n",
    "    print()    "
   ]
  },
  {
   "cell_type": "markdown",
   "id": "8ebe2775",
   "metadata": {},
   "source": [
    "## 5) Pattern 5 :"
   ]
  },
  {
   "cell_type": "code",
   "execution_count": 5,
   "id": "a7d9ec7c",
   "metadata": {},
   "outputs": [
    {
     "name": "stdout",
     "output_type": "stream",
     "text": [
      "Enter number of rows: 5\n",
      "\n",
      "1 \n",
      "3 2 \n",
      "6 5 4 \n",
      "10 9 8 7 \n"
     ]
    }
   ],
   "source": [
    "n = int(input(\"Enter number of rows: \"))\n",
    "k = 0\n",
    "for i in range(0,n):\n",
    "    for j in range(1,i+1):\n",
    "        print(k,end =' ')\n",
    "        k-=1\n",
    "    k = k+(2*i)+1\n",
    "    print()"
   ]
  },
  {
   "cell_type": "markdown",
   "id": "7a2ed5c6",
   "metadata": {},
   "source": [
    "## 6) Pattern 6 :"
   ]
  },
  {
   "cell_type": "code",
   "execution_count": 6,
   "id": "328248b8",
   "metadata": {},
   "outputs": [
    {
     "name": "stdout",
     "output_type": "stream",
     "text": [
      "Enter number of rows: 6\n",
      "  1 \n",
      "  1   1 \n",
      "  1   2   1 \n",
      "  1   3   3   1 \n",
      "  1   4   6   4   1 \n",
      "  1   5  10  10   5   1 \n"
     ]
    }
   ],
   "source": [
    "def fact(n):\n",
    "    f = 1\n",
    "    for i in range(1,n+1):\n",
    "        f = f * i\n",
    "    return f\n",
    "\n",
    "n = int(input(\"Enter number of rows: \"))\n",
    "for i in range(0,n):\n",
    "    for k in range(0,i+1):\n",
    "        coef = int(fact(i) / (fact(k) * fact(i-k)))\n",
    "        print(\"%3d\"%coef,end = ' ')\n",
    "    print()"
   ]
  },
  {
   "cell_type": "markdown",
   "id": "902bc744",
   "metadata": {},
   "source": [
    "## 7) Pattern 7 :"
   ]
  },
  {
   "cell_type": "code",
   "execution_count": 7,
   "id": "64b40f8b",
   "metadata": {},
   "outputs": [
    {
     "name": "stdout",
     "output_type": "stream",
     "text": [
      "Enter number of rows: 5\n",
      "1 2 3 4 5 \n",
      "2 2 3 4 5 \n",
      "3 3 3 4 5 \n",
      "4 4 4 4 5 \n",
      "5 5 5 5 5 \n"
     ]
    }
   ],
   "source": [
    "n = int(input(\"Enter number of rows: \"))\n",
    "for i in range(1,n+1):\n",
    "    for j in range(1,n+1):\n",
    "        if(j>i):\n",
    "            print(j,end = ' ')\n",
    "        if(j<=i):\n",
    "            print(i,end = ' ')\n",
    "    print()"
   ]
  },
  {
   "cell_type": "markdown",
   "id": "36aeaa4a",
   "metadata": {},
   "source": [
    "## 8) Pattern 8 :"
   ]
  },
  {
   "cell_type": "code",
   "execution_count": 8,
   "id": "567c93ad",
   "metadata": {},
   "outputs": [
    {
     "name": "stdout",
     "output_type": "stream",
     "text": [
      "Enter number of rows: 6\n",
      "1 \n",
      "2 4 \n",
      "3 6 9 \n",
      "4 8 12 16 \n",
      "5 10 15 20 25 \n",
      "6 12 18 24 30 36 \n"
     ]
    }
   ],
   "source": [
    "n = int(input(\"Enter number of rows: \"))\n",
    "for i in range(1,n+1):\n",
    "    for j in range(1,i+1):\n",
    "        print(i*j,end = ' ')\n",
    "   \n",
    "    print()"
   ]
  },
  {
   "cell_type": "markdown",
   "id": "a83995b6",
   "metadata": {},
   "source": [
    "## 9) Pattern 9 :"
   ]
  },
  {
   "cell_type": "code",
   "execution_count": 9,
   "id": "23713b07",
   "metadata": {},
   "outputs": [
    {
     "name": "stdout",
     "output_type": "stream",
     "text": [
      "          * * * * * * * \r\n",
      "           * * * * * * \r\n",
      "            * * * * * \r\n",
      "             * * * * \r\n",
      "              * * * \r\n",
      "               * * \r\n",
      "                * \r\n"
     ]
    }
   ],
   "source": [
    "def pattern(n):\n",
    "    k = 2 * n -2\n",
    "    for i in range(n,-1,-1):\n",
    "        for j in range(k,0,-1):\n",
    "            print(end = ' ')\n",
    "        k = k + 1\n",
    "        for j in range(0,i+1):\n",
    "            print(\"*\",end = ' ')\n",
    "        print(\"\\r\")\n",
    "        \n",
    "pattern(6)"
   ]
  },
  {
   "cell_type": "markdown",
   "id": "eb68e4ba",
   "metadata": {},
   "source": [
    "## 10) Pattern 10 :"
   ]
  },
  {
   "cell_type": "code",
   "execution_count": 10,
   "id": "37f77d78",
   "metadata": {},
   "outputs": [
    {
     "name": "stdout",
     "output_type": "stream",
     "text": [
      "            * \n",
      "           * * \n",
      "          * * * \n",
      "         * * * * \n",
      "        * * * * * \n",
      "       * * * * * * \n",
      "      * * * * * * * \n"
     ]
    }
   ],
   "source": [
    "def pattern(n):\n",
    "    k = 2 * n - 2\n",
    "    for i in range(0,n):\n",
    "        for j in range(0,k):\n",
    "            print(end = ' ')\n",
    "        k = k - 1\n",
    "        for j in range(0,i+1):\n",
    "            print(\"*\",end = ' ')\n",
    "        print()\n",
    "\n",
    "pattern(7)"
   ]
  },
  {
   "cell_type": "markdown",
   "id": "3f726b1b",
   "metadata": {},
   "source": [
    "## 11) Pattern 11 :"
   ]
  },
  {
   "cell_type": "code",
   "execution_count": 11,
   "id": "c7f84375",
   "metadata": {},
   "outputs": [
    {
     "name": "stdout",
     "output_type": "stream",
     "text": [
      "Enter number of rows: 7\n",
      "* \n",
      "* * \n",
      "* * * \n",
      "* * * * \n",
      "* * * * * \n",
      "* * * * * * \n",
      "* * * * * * * \n",
      "\n",
      "* * * * * * * \n",
      "* * * * * * \n",
      "* * * * * \n",
      "* * * * \n",
      "* * * \n",
      "* * \n",
      "* \n",
      "\n"
     ]
    }
   ],
   "source": [
    "n = int(input(\"Enter number of rows: \"))\n",
    "for i in range(1,n+1):\n",
    "    for j in range(1,i+1):\n",
    "        print(\"*\",end = ' ')\n",
    "    print()\n",
    "print()\n",
    "\n",
    "for i in range(n+1,0,-1):\n",
    "    for j in range(0,i-1):\n",
    "        print(\"*\",end = ' ')\n",
    "    print()"
   ]
  },
  {
   "cell_type": "markdown",
   "id": "7adb66e5",
   "metadata": {},
   "source": [
    "## 12) Pattern 12 :"
   ]
  },
  {
   "cell_type": "code",
   "execution_count": 12,
   "id": "fc9f5d92",
   "metadata": {},
   "outputs": [
    {
     "name": "stdout",
     "output_type": "stream",
     "text": [
      "* \n",
      "* * \n",
      "* * * \n",
      "* * * * \n",
      "* * * * * \n",
      "* * * * * * \n",
      "* * * * * * * \n",
      "* * * * * * \n",
      "* * * * * \n",
      "* * * * \n",
      "* * * \n",
      "* * \n",
      "* \n"
     ]
    }
   ],
   "source": [
    "def pattern(n):\n",
    "    for i in range(0,n):\n",
    "        for j in range(0,i+1):\n",
    "            print(\"*\",end = ' ')\n",
    "        print()\n",
    "    for i in range(n,-1,-1):\n",
    "        for j in range(0,i+1):\n",
    "            print(\"*\",end = ' ')\n",
    "        print()\n",
    "        \n",
    "pattern(6)"
   ]
  },
  {
   "cell_type": "markdown",
   "id": "2543e56c",
   "metadata": {},
   "source": [
    "## 13) Pattern 13 :"
   ]
  },
  {
   "cell_type": "code",
   "execution_count": 13,
   "id": "c8bb2912",
   "metadata": {},
   "outputs": [
    {
     "name": "stdout",
     "output_type": "stream",
     "text": [
      "          * \n",
      "        * * \n",
      "      * * * \n",
      "    * * * * \n",
      "  * * * * * \n",
      "* * * * * * \n",
      "  * * * * * \n",
      "    * * * * \n",
      "      * * * \n",
      "        * * \n",
      "          * \n"
     ]
    }
   ],
   "source": [
    "def pattern(n):\n",
    "    k = 2 * n - 2\n",
    "    for i in range(0,n-1):\n",
    "        for j in range(0,k):\n",
    "            print(end = ' ')\n",
    "        k = k - 2\n",
    "        for j in range(0,i+1):\n",
    "            print(\"*\",end = ' ')\n",
    "        print()\n",
    "    k = -1\n",
    "    for i in range(n-1,-1,-1):\n",
    "        for j in range(k,-1,-1):\n",
    "            print(end = ' ')\n",
    "        k = k + 2\n",
    "        for j in range(0,i+1):\n",
    "            print(\"*\",end = ' ')\n",
    "        print()\n",
    "        \n",
    "pattern(6)"
   ]
  },
  {
   "cell_type": "markdown",
   "id": "293efacb",
   "metadata": {},
   "source": [
    "## 14) Pattern 14 :"
   ]
  },
  {
   "cell_type": "code",
   "execution_count": 14,
   "id": "42333e2d",
   "metadata": {},
   "outputs": [
    {
     "name": "stdout",
     "output_type": "stream",
     "text": [
      "    * * * * * * * \n",
      "     * * * * * * \n",
      "      * * * * * \n",
      "       * * * * \n",
      "        * * * \n",
      "         * * \n",
      "          * \n",
      "          * \n",
      "         * * \n",
      "        * * * \n",
      "       * * * * \n",
      "      * * * * * \n",
      "     * * * * * * \n",
      "    * * * * * * * \n"
     ]
    }
   ],
   "source": [
    "def pattern(n):\n",
    "    k = n - 2\n",
    "    for i in range(n,-1,-1):\n",
    "        for j in range(k,0,-1):\n",
    "            print(end = ' ')\n",
    "        k = k + 1\n",
    "        for j in range(0,i+1):\n",
    "            print(\"*\",end = ' ')\n",
    "        print()\n",
    "    k = 2 * n - 2\n",
    "    for i in range(0,n+1):\n",
    "        for j in range(0,k):\n",
    "            print(end = ' ')\n",
    "        k = k - 1\n",
    "        for j in range(0,i+1):\n",
    "            print(\"*\",end = ' ')\n",
    "        print()\n",
    "        \n",
    "pattern(6)\n",
    "            "
   ]
  },
  {
   "cell_type": "markdown",
   "id": "3d1f300a",
   "metadata": {},
   "source": [
    "## 15) Pattern 15 :"
   ]
  },
  {
   "cell_type": "code",
   "execution_count": 15,
   "id": "a83ff87a",
   "metadata": {},
   "outputs": [
    {
     "name": "stdout",
     "output_type": "stream",
     "text": [
      "Enter number of rows: 14\n",
      "**************\n",
      "******__******\n",
      "*****____*****\n",
      "****______****\n",
      "***________***\n",
      "**__________**\n",
      "*____________*\n"
     ]
    }
   ],
   "source": [
    "n = int(input(\"Enter number of rows: \"))\n",
    "print(\"*\" * n,end = \"\\n\")\n",
    "i = (n//2)-1\n",
    "j = 2\n",
    "while i!=0:\n",
    "    while j<=(n-2):\n",
    "        print(\"*\" * i,end = '')\n",
    "        print(\"_\" * j,end = '')\n",
    "        print(\"*\" * i,end = \"\\n\")\n",
    "        i = i - 1\n",
    "        j = j + 2"
   ]
  },
  {
   "cell_type": "code",
   "execution_count": null,
   "id": "df4795a3",
   "metadata": {},
   "outputs": [],
   "source": []
  }
 ],
 "metadata": {
  "kernelspec": {
   "display_name": "Python 3",
   "language": "python",
   "name": "python3"
  },
  "language_info": {
   "codemirror_mode": {
    "name": "ipython",
    "version": 3
   },
   "file_extension": ".py",
   "mimetype": "text/x-python",
   "name": "python",
   "nbconvert_exporter": "python",
   "pygments_lexer": "ipython3",
   "version": "3.8.8"
  }
 },
 "nbformat": 4,
 "nbformat_minor": 5
}
