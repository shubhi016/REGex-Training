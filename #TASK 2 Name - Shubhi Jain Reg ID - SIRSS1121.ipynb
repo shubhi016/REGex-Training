{
 "cells": [
  {
   "cell_type": "markdown",
   "id": "d478528f",
   "metadata": {},
   "source": [
    "## ASSISGNMENT - 2"
   ]
  },
  {
   "cell_type": "markdown",
   "id": "4494f903",
   "metadata": {},
   "source": [
    "### Q1. Write a lambda expression to extract first word of a string."
   ]
  },
  {
   "cell_type": "code",
   "execution_count": 1,
   "id": "3071d592",
   "metadata": {},
   "outputs": [
    {
     "data": {
      "text/plain": [
       "<function __main__.<lambda>(s)>"
      ]
     },
     "execution_count": 1,
     "metadata": {},
     "output_type": "execute_result"
    }
   ],
   "source": [
    "lambda s : s.split()[0]"
   ]
  },
  {
   "cell_type": "code",
   "execution_count": 2,
   "id": "77859e47",
   "metadata": {},
   "outputs": [],
   "source": [
    "a = lambda s : s.split()[0]"
   ]
  },
  {
   "cell_type": "code",
   "execution_count": 7,
   "id": "bc77bfd9",
   "metadata": {},
   "outputs": [
    {
     "data": {
      "text/plain": [
       "'Hi'"
      ]
     },
     "execution_count": 7,
     "metadata": {},
     "output_type": "execute_result"
    }
   ],
   "source": [
    "a('Hi people! Welcome to Assignment 2')"
   ]
  },
  {
   "cell_type": "markdown",
   "id": "c3f82e57",
   "metadata": {},
   "source": [
    "### Q2. Write a function to extract first word of a string (with many words separated by space)."
   ]
  },
  {
   "cell_type": "code",
   "execution_count": 8,
   "id": "afedf549",
   "metadata": {},
   "outputs": [],
   "source": [
    "def separate(s):\n",
    "    return s.split()[0]"
   ]
  },
  {
   "cell_type": "code",
   "execution_count": 9,
   "id": "0c3bf1a6",
   "metadata": {},
   "outputs": [],
   "source": [
    "l = ['Hi, Good Morning','I am Shubhi Jain','hope you are having an amazing day','so grateful']"
   ]
  },
  {
   "cell_type": "code",
   "execution_count": 10,
   "id": "18965f4d",
   "metadata": {},
   "outputs": [
    {
     "name": "stdout",
     "output_type": "stream",
     "text": [
      "Hi, I hope so "
     ]
    }
   ],
   "source": [
    "for i in l:\n",
    "    print(separate(i), end = ' ')"
   ]
  },
  {
   "cell_type": "markdown",
   "id": "fde5dc31",
   "metadata": {},
   "source": [
    "### Q3. Extract the first word from every string from a list of strings by using map function."
   ]
  },
  {
   "cell_type": "code",
   "execution_count": 11,
   "id": "9c70783b",
   "metadata": {},
   "outputs": [],
   "source": [
    "l = ['I am an CSE undergraduate','Data Science enthusiastic','Love to explore new things']"
   ]
  },
  {
   "cell_type": "code",
   "execution_count": 12,
   "id": "3747c664",
   "metadata": {},
   "outputs": [],
   "source": [
    "def first(s):\n",
    "    return s.split()[0]"
   ]
  },
  {
   "cell_type": "code",
   "execution_count": 13,
   "id": "0659f044",
   "metadata": {},
   "outputs": [
    {
     "data": {
      "text/plain": [
       "['I', 'Data', 'Love']"
      ]
     },
     "execution_count": 13,
     "metadata": {},
     "output_type": "execute_result"
    }
   ],
   "source": [
    "list(map(first,l))"
   ]
  },
  {
   "cell_type": "markdown",
   "id": "03d5338c",
   "metadata": {},
   "source": [
    "### Q4. Write a function to return a list of prime factors of a given munber."
   ]
  },
  {
   "cell_type": "code",
   "execution_count": 1,
   "id": "b75bd1af",
   "metadata": {},
   "outputs": [],
   "source": [
    "def prime(n):\n",
    "    if n == 0 or n == 1:\n",
    "        return False\n",
    "    \n",
    "    else:\n",
    "        for i in range(2,int(n**0.5)+1):\n",
    "            if n % i == 0 :\n",
    "                return False\n",
    "                break\n",
    "            else:\n",
    "                return True\n",
    "            "
   ]
  },
  {
   "cell_type": "code",
   "execution_count": 2,
   "id": "544d174e",
   "metadata": {},
   "outputs": [],
   "source": [
    "def primeFactor(n):\n",
    "    pfact = []\n",
    "    i = 2\n",
    "    \n",
    "    while n > 1:\n",
    "        if n % i == 0 and prime(i):\n",
    "            pfact.append(i)\n",
    "            n = n // i\n",
    "        else:\n",
    "            i+=1\n",
    "            \n",
    "    return pfact"
   ]
  },
  {
   "cell_type": "code",
   "execution_count": null,
   "id": "d86fb286",
   "metadata": {},
   "outputs": [],
   "source": [
    "primeFactor(68)"
   ]
  },
  {
   "cell_type": "markdown",
   "id": "09161520",
   "metadata": {},
   "source": [
    "### Q5. Write a function that finds second largest among 4 numbers (repititions are allowed , without sorting)."
   ]
  },
  {
   "cell_type": "code",
   "execution_count": 1,
   "id": "7717c70c",
   "metadata": {},
   "outputs": [
    {
     "name": "stdout",
     "output_type": "stream",
     "text": [
      " second highest number is :  64\n"
     ]
    }
   ],
   "source": [
    "l1 = [10,34,86,64]\n",
    "\n",
    "mx = max(l1[0],l1[1])\n",
    "second_mx = min(l1[0],l1[1])\n",
    "\n",
    "n = len(l1)\n",
    "for i in range(2,n):\n",
    "    if l1[i] > mx :\n",
    "        second_mx = mx\n",
    "        mx = l1[i]\n",
    "        \n",
    "    elif l1[i] > second_mx and mx != l1[i] :\n",
    "        second_mx = l1[i]\n",
    "        \n",
    "print(\" second highest number is : \", str(second_mx))"
   ]
  },
  {
   "cell_type": "code",
   "execution_count": null,
   "id": "fadacffe",
   "metadata": {},
   "outputs": [],
   "source": []
  }
 ],
 "metadata": {
  "kernelspec": {
   "display_name": "Python 3",
   "language": "python",
   "name": "python3"
  },
  "language_info": {
   "codemirror_mode": {
    "name": "ipython",
    "version": 3
   },
   "file_extension": ".py",
   "mimetype": "text/x-python",
   "name": "python",
   "nbconvert_exporter": "python",
   "pygments_lexer": "ipython3",
   "version": "3.8.8"
  }
 },
 "nbformat": 4,
 "nbformat_minor": 5
}
