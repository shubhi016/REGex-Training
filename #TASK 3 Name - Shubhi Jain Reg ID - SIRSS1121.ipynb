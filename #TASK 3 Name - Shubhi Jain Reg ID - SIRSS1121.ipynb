{
 "cells": [
  {
   "cell_type": "markdown",
   "id": "3c7bf713",
   "metadata": {},
   "source": [
    "## ASSISGNMENT - 3"
   ]
  },
  {
   "cell_type": "markdown",
   "id": "e1d7cb1d",
   "metadata": {},
   "source": [
    "### Q1. Write a function to return nth term of Fibonacci sequence."
   ]
  },
  {
   "cell_type": "code",
   "execution_count": 30,
   "id": "e4084382",
   "metadata": {},
   "outputs": [
    {
     "name": "stdout",
     "output_type": "stream",
     "text": [
      "Enter a value : 6\n"
     ]
    },
    {
     "data": {
      "text/plain": [
       "8"
      ]
     },
     "execution_count": 30,
     "metadata": {},
     "output_type": "execute_result"
    }
   ],
   "source": [
    "def fibonacci(n):\n",
    "    if n == 0 or n == 1:\n",
    "        return n \n",
    "    return fibonacci(n-1) + fibonacci(n-2)\n",
    "\n",
    "n = int(input(\"Enter a value : \"))\n",
    "\n",
    "fibonacci(n)"
   ]
  },
  {
   "cell_type": "markdown",
   "id": "9d5b8a55",
   "metadata": {},
   "source": [
    "### Q2. Write a function to find out GCD of two numbers using Euclid's algorithm."
   ]
  },
  {
   "cell_type": "code",
   "execution_count": 31,
   "id": "28df97ad",
   "metadata": {},
   "outputs": [
    {
     "name": "stdout",
     "output_type": "stream",
     "text": [
      "Enter value of first number : 18\n",
      "Enter value of second number : 6\n",
      "GCD of 18 and 6 is : \n",
      "6\n"
     ]
    }
   ],
   "source": [
    "def gcd(a,b):\n",
    "    while b != 0:\n",
    "        rem = a % b\n",
    "        a = b\n",
    "        b = rem\n",
    "    print(a)\n",
    "    \n",
    "a = int(input(\"Enter value of first number : \"))\n",
    "b = int(input(\"Enter value of second number : \"))\n",
    "\n",
    "print(\"GCD of\", a ,\"and\", b ,\"is : \")\n",
    "\n",
    "gcd(a,b)"
   ]
  },
  {
   "cell_type": "markdown",
   "id": "a625f6ef",
   "metadata": {},
   "source": [
    "### Q3. Write a function to find LCM of two numbers in most optimizers way."
   ]
  },
  {
   "cell_type": "code",
   "execution_count": 32,
   "id": "40de1947",
   "metadata": {},
   "outputs": [
    {
     "name": "stdout",
     "output_type": "stream",
     "text": [
      "Enter value of first number : 24\n",
      "Enter value of second number : 12\n",
      "LCM is :  24\n"
     ]
    }
   ],
   "source": [
    "def gcd(a,b):\n",
    "    while (b):\n",
    "        rem = a % b\n",
    "        a = b\n",
    "        b = rem\n",
    "    return a\n",
    "\n",
    "def lcm(a,b):\n",
    "    lcm = (a * b) // gcd(a,b)\n",
    "    return lcm\n",
    "\n",
    "num1 = int(input(\"Enter value of first number : \"))\n",
    "num2 = int(input(\"Enter value of second number : \"))\n",
    "\n",
    "print(\"LCM is : \", lcm(num1,num2))"
   ]
  },
  {
   "cell_type": "code",
   "execution_count": null,
   "id": "858f7697",
   "metadata": {},
   "outputs": [],
   "source": []
  }
 ],
 "metadata": {
  "kernelspec": {
   "display_name": "Python 3",
   "language": "python",
   "name": "python3"
  },
  "language_info": {
   "codemirror_mode": {
    "name": "ipython",
    "version": 3
   },
   "file_extension": ".py",
   "mimetype": "text/x-python",
   "name": "python",
   "nbconvert_exporter": "python",
   "pygments_lexer": "ipython3",
   "version": "3.8.8"
  }
 },
 "nbformat": 4,
 "nbformat_minor": 5
}
